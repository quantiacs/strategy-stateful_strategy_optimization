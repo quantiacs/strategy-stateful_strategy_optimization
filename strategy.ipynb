{
 "cells": [
  {
   "cell_type": "markdown",
   "metadata": {},
   "source": [
    "## Stateful Strategy Optimization\n",
    "\n",
    "This template demonstrates a method for finding optimal values for each parameter in your stateful/multi-pass strategy. These strategies use day-by-day processing and rely on previous day's input to make decisions.\n",
    "If you are not familiar with stateful strategies, you can take a look at [Stateful Long-Short with Exits](https://quantiacs.com/referee/template/17156239/html).\n",
    "For single-pass submissions, please take a look at [Trading System Optimization](https://www.quantiacs.com/referee/template/588497/html).\n",
    "\n",
    "When you begin writing your trading strategies, the simplest method is to employ technical analysis. However, relying solely on pure technical analysis is often insufficient. You need to adjust the parameters of technical indicators to get an idea of how they affect the Sharpe Ratio and other statistics.\n",
    "\n",
    "There is a significant risk of creating an overfitted strategy when using such optimization techniques. Overfitting can be mitigated by using less parameters, bigger ranges between them and examining the results to see how system behaves with the changes. This example illustrates how to implement this approach effectively, reducing the impact of overfitting and enhancing the robustness of your trading strategies."
   ]
  },
  {
   "cell_type": "code",
   "execution_count": 1,
   "metadata": {},
   "outputs": [
    {
     "data": {
      "text/html": [
       "        <script type=\"text/javascript\">\n",
       "        window.PlotlyConfig = {MathJaxConfig: 'local'};\n",
       "        if (window.MathJax) {MathJax.Hub.Config({SVG: {font: \"STIX-Web\"}});}\n",
       "        if (typeof require !== 'undefined') {\n",
       "        require.undef(\"plotly\");\n",
       "        requirejs.config({\n",
       "            paths: {\n",
       "                'plotly': ['https://cdn.plot.ly/plotly-latest.min']\n",
       "            }\n",
       "        });\n",
       "        require(['plotly'], function(Plotly) {\n",
       "            window._Plotly = Plotly;\n",
       "        });\n",
       "        }\n",
       "        </script>\n",
       "        "
      ]
     },
     "metadata": {},
     "output_type": "display_data"
    }
   ],
   "source": [
    "import xarray as xr\n",
    "import numpy as np\n",
    "import pandas as pd\n",
    "import plotly.express as px\n",
    "\n",
    "import qnt.backtester as qnbt\n",
    "import qnt.data as qndata          \n",
    "import qnt.ta as qnta              \n",
    "import qnt.optimizer as qno      \n",
    "import qnt.state as qnstate\n",
    "import qnt.exits as qnte"
   ]
  },
  {
   "cell_type": "markdown",
   "metadata": {},
   "source": [
    "## Strategy Function\n",
    "\n",
    "Here you can define your strategy and enter desired parameters as the arguments. "
   ]
  },
  {
   "cell_type": "code",
   "execution_count": 2,
   "metadata": {},
   "outputs": [],
   "source": [
    "def strategy(data, state, p1=7.5, p2 = 3, p3 = 18, p4 = 6, p5 = 0.5, p6 = -17):\n",
    "    \n",
    "    #Technical indicators\n",
    "    close = data.sel(field='close')\n",
    "    open_ = data.sel(field='open')\n",
    "    atr14 = qnta.atr(data.sel(field='high'), data.sel(field='low'), data.sel(field='close'), 14)\n",
    "    last_atr = atr14.isel(time=-1)\n",
    "    atr_perc = xr.where(atr14/close > 0.01, atr14/close, 0.01)\n",
    "    sma40  = qnta.sma(close, 40)\n",
    "    sma70  = qnta.sma(close, 70)\n",
    "    sma200  = qnta.sma(close, 200)\n",
    "    rsi120 = qnta.rsi(close, 120)\n",
    "    candle = close - open_\n",
    "    candlesma100 = qnta.sma(abs(candle), 100)\n",
    "    roc1day = qnta.roc(close, 1)\n",
    "    \n",
    "    if state is None:\n",
    "        state = {\n",
    "            \"weights\": xr.zeros_like(close),\n",
    "            \"open_price\": xr.full_like(data.isel(time=-1).asset, np.nan, dtype=int),\n",
    "            \"holding_time\": xr.zeros_like(data.isel(time=-1).asset, dtype=int),\n",
    "            }\n",
    "    weights_prev = state['weights']\n",
    "    \n",
    "    #To reuse the template, define your trading signals here ---------------------\n",
    "    long_signal = xr.where(sma40 > sma200, xr.where(sma40.shift(time=1) < sma200.shift(time=1), p4, 0), 0) \n",
    "    long_signal_2 = xr.where(candle > candlesma100.shift(time=1) * 4.5, p5, 0)\n",
    "    short_signal = xr.where(rsi120 > 65 , p6, 0)\n",
    "    exit1 = xr.where(close < sma70, 0, 1)\n",
    "    exit2 = xr.where(roc1day < -5, 0, 1)\n",
    "    entry_signal = short_signal + (long_signal + long_signal_2) * exit1 * exit2\n",
    "    entry_signal = entry_signal/atr_perc\n",
    "    # ----------------------------------------------------------------------------\n",
    "    \n",
    "    #Keeping track of the previous position\n",
    "    weights_prev, entry_signal = xr.align(weights_prev, entry_signal, join='right')\n",
    "    weights = xr.where(entry_signal == 0, weights_prev.shift(time=1), entry_signal)\n",
    "    weights = weights.fillna(0)\n",
    "    \n",
    "    #Define additional exit parameters here----------------------------------\n",
    "    open_price = qnte.update_open_price(data, weights, state) #Update open prices on position change to use with exits\n",
    "    signal_tp = qnte.take_profit_long_atr(data, weights, open_price, last_atr, atr_amount = p1) #Exit long positions if current close is bigger than entry price + 7*ATR\n",
    "    signal_sl = qnte.stop_loss_long_atr(data, weights, open_price, last_atr, atr_amount = p2) #Exit long positions if current close is lower than entry price - 3*ATR\n",
    "    signal_dc = qnte.max_hold_short(weights, state, max_period = p3) #Exit short positions after 10 periods (depending on the data - days, hours etc)\n",
    "    weights = weights * signal_tp * signal_sl * signal_dc\n",
    "    #------------------------------------------------------------------------\n",
    "    \n",
    "    state['weights'] = weights\n",
    "    return weights, state"
   ]
  },
  {
   "cell_type": "markdown",
   "metadata": {},
   "source": [
    "All optimization code cells in this notebook begin with the comment `#DEBUG#`. This ensures that the Quantiacs backtester will ignore these cells during submission, preventing execution and simplifying the submission process without requiring you to delete or comment out optimizers."
   ]
  },
  {
   "cell_type": "code",
   "execution_count": 3,
   "metadata": {},
   "outputs": [
    {
     "name": "stderr",
     "output_type": "stream",
     "text": [
      "100% (367973 of 367973) |################| Elapsed Time: 0:00:00 Time:  0:00:00\n",
      "100% (39443 of 39443) |##################| Elapsed Time: 0:00:00 Time:  0:00:00\n",
      "100% (12916080 of 12916080) |############| Elapsed Time: 0:00:00 Time:  0:00:00\n"
     ]
    },
    {
     "name": "stdout",
     "output_type": "stream",
     "text": [
      "fetched chunk 1/7 1s\n"
     ]
    },
    {
     "name": "stderr",
     "output_type": "stream",
     "text": [
      "100% (12916080 of 12916080) |############| Elapsed Time: 0:00:00 Time:  0:00:00\n"
     ]
    },
    {
     "name": "stdout",
     "output_type": "stream",
     "text": [
      "fetched chunk 2/7 1s\n"
     ]
    },
    {
     "name": "stderr",
     "output_type": "stream",
     "text": [
      "100% (12916076 of 12916076) |############| Elapsed Time: 0:00:00 Time:  0:00:00\n"
     ]
    },
    {
     "name": "stdout",
     "output_type": "stream",
     "text": [
      "fetched chunk 3/7 2s\n"
     ]
    },
    {
     "name": "stderr",
     "output_type": "stream",
     "text": [
      "100% (12916052 of 12916052) |############| Elapsed Time: 0:00:00 Time:  0:00:00\n"
     ]
    },
    {
     "name": "stdout",
     "output_type": "stream",
     "text": [
      "fetched chunk 4/7 3s\n"
     ]
    },
    {
     "name": "stderr",
     "output_type": "stream",
     "text": [
      "100% (12915976 of 12915976) |############| Elapsed Time: 0:00:00 Time:  0:00:00\n"
     ]
    },
    {
     "name": "stdout",
     "output_type": "stream",
     "text": [
      "fetched chunk 5/7 4s\n"
     ]
    },
    {
     "name": "stderr",
     "output_type": "stream",
     "text": [
      "100% (12915976 of 12915976) |############| Elapsed Time: 0:00:00 Time:  0:00:00\n"
     ]
    },
    {
     "name": "stdout",
     "output_type": "stream",
     "text": [
      "fetched chunk 6/7 4s\n"
     ]
    },
    {
     "name": "stderr",
     "output_type": "stream",
     "text": [
      "100% (4980788 of 4980788) |##############| Elapsed Time: 0:00:00 Time:  0:00:00\n"
     ]
    },
    {
     "name": "stdout",
     "output_type": "stream",
     "text": [
      "fetched chunk 7/7 5s\n",
      "Data loaded 5s\n"
     ]
    }
   ],
   "source": [
    "#DEBUG#\n",
    "data = qndata.stocks.load_ndx_data(min_date=\"2004-01-01\") #Load the data for selected competition type"
   ]
  },
  {
   "cell_type": "markdown",
   "metadata": {},
   "source": [
    "### Optimization Guidelines for Quantiacs Backtester\n",
    "\n",
    "The Quantiacs library offers two functions for parameter optimization:\n",
    "\n",
    "- **`full_range_args_generator`**: This function exhaustively explores all possible parameter combinations you define.\n",
    "\n",
    "- **`random_range_args_generator`**: This function performs a fixed number of random iterations.\n",
    "\n",
    "To save time, we recommend using `random_range_args_generator`. Running a defined number of iterations (usually 1-5% of the total grid) often provides sufficient insight into the overall results of the parametric analysis.\n",
    "\n",
    "In the example strategy, the 3 iterations defined in the function will take approximately 20 minutes to complete. You can adjust the number of iterations based on your needs—either reducing it for quicker results or increasing it for more thorough analysis, especially if you can let the notebook run for extended periods, such as overnight. Furthermore, it is not necessary to put all of the parameters into the optimizer at once. You can tune them separately to get a better idea of what gives you good results for each one."
   ]
  },
  {
   "cell_type": "code",
   "execution_count": 4,
   "metadata": {},
   "outputs": [
    {
     "name": "stderr",
     "output_type": "stream",
     "text": [
      "100% (39443 of 39443) |##################| Elapsed Time: 0:00:00 Time:  0:00:00\n",
      "100% (3988812 of 3988812) |##############| Elapsed Time: 0:00:00 Time:  0:00:00\n",
      "100% (609532 of 609532) |################| Elapsed Time: 0:00:00 Time:  0:00:00\n"
     ]
    },
    {
     "name": "stdout",
     "output_type": "stream",
     "text": [
      "Load data...\n"
     ]
    },
    {
     "name": "stderr",
     "output_type": "stream",
     "text": [
      "100% (39443 of 39443) |##################| Elapsed Time: 0:00:00 Time:  0:00:00\n",
      "100% (4020692 of 4020692) |##############| Elapsed Time: 0:00:00 Time:  0:00:00\n"
     ]
    },
    {
     "name": "stdout",
     "output_type": "stream",
     "text": [
      "Run strategy...\n"
     ]
    },
    {
     "name": "stderr",
     "output_type": "stream",
     "text": [
      "100% (39443 of 39443) |##################| Elapsed Time: 0:00:00 Time:  0:00:00\n",
      "100% (13229608 of 13229608) |############| Elapsed Time: 0:00:00 Time:  0:00:00\n",
      "100% (13229608 of 13229608) |############| Elapsed Time: 0:00:00 Time:  0:00:00\n",
      "100% (13229576 of 13229576) |############| Elapsed Time: 0:00:00 Time:  0:00:00\n",
      "100% (13229492 of 13229492) |############| Elapsed Time: 0:00:00 Time:  0:00:00\n",
      "100% (13229492 of 13229492) |############| Elapsed Time: 0:00:00 Time:  0:00:00\n",
      "100% (12286052 of 12286052) |############| Elapsed Time: 0:00:00 Time:  0:00:00\n",
      "100% (4662 of 4662) |####################| Elapsed Time: 0:05:45 Time:  0:05:45\n",
      "100% (39443 of 39443) |##################| Elapsed Time: 0:00:00 Time:  0:00:00\n",
      "100% (13020220 of 13020220) |############| Elapsed Time: 0:00:00 Time:  0:00:00\n",
      "100% (13020220 of 13020220) |############| Elapsed Time: 0:00:00 Time:  0:00:00\n",
      "100% (13020188 of 13020188) |############| Elapsed Time: 0:00:00 Time:  0:00:00\n",
      "100% (13020188 of 13020188) |############| Elapsed Time: 0:00:00 Time:  0:00:00\n",
      "100% (13020108 of 13020108) |############| Elapsed Time: 0:00:00 Time:  0:00:00\n",
      "100% (13020188 of 13020188) |############| Elapsed Time: 0:00:00 Time:  0:00:00\n",
      "100% (971604 of 971604) |################| Elapsed Time: 0:00:00 Time:  0:00:00\n",
      " 33% (1 of 3) |########                  | Elapsed Time: 0:06:09 ETA:   0:12:18"
     ]
    },
    {
     "name": "stdout",
     "output_type": "stream",
     "text": [
      "Load data...\n",
      "Run strategy...\n"
     ]
    },
    {
     "name": "stderr",
     "output_type": "stream",
     "text": [
      "100% (4662 of 4662) |####################| Elapsed Time: 0:05:45 Time:  0:05:45\n",
      " 66% (2 of 3) |#################         | Elapsed Time: 0:12:00 ETA:   0:05:50"
     ]
    },
    {
     "name": "stdout",
     "output_type": "stream",
     "text": [
      "Load data...\n",
      "Run strategy...\n"
     ]
    },
    {
     "name": "stderr",
     "output_type": "stream",
     "text": [
      "100% (4662 of 4662) |####################| Elapsed Time: 0:05:45 Time:  0:05:45\n",
      "100% (3 of 3) |##########################| Elapsed Time: 0:17:51 Time:  0:17:51\n"
     ]
    }
   ],
   "source": [
    "#DEBUG#\n",
    "results = qno.optimize_strategy(\n",
    "    data, \n",
    "    strategy, \n",
    "    qno.random_range_args_generator(iterations = 3, \n",
    "                                    p3=range(5, 25, 2),\n",
    "                                    p4=np.arange(3, 6.5, 0.5), \n",
    "                                    p5=np.arange(0.5, 2, 0.5), \n",
    "                                    p6=range(-10, -21, -5)),\n",
    "    lookback_period = 365, #Lookback period, default is 365 days\n",
    "    workers=1 # you can set more workers on your local PC to speed up\n",
    ")"
   ]
  },
  {
   "cell_type": "markdown",
   "metadata": {},
   "source": [
    "Optimizer will create a dictionary with all the results which you can then sort by Sharpe Ratio - see below. This can help you pick the best combination and also see how different parameters influence the score.\n",
    "\n",
    "When you want to use the selected parameters in your strategy, simply replace the arguments in the strategy function with the optimizer output"
   ]
  },
  {
   "cell_type": "code",
   "execution_count": 5,
   "metadata": {},
   "outputs": [
    {
     "data": {
      "text/plain": [
       "[(0.8369086085847144, {'p3': 19, 'p4': 3.5, 'p5': 0.5, 'p6': -15}),\n",
       " (0.7053717763297558, {'p3': 11, 'p4': 3.5, 'p5': 1.5, 'p6': -15}),\n",
       " (0.6974657956581223, {'p3': 23, 'p4': 3.5, 'p5': 0.5, 'p6': -15})]"
      ]
     },
     "execution_count": 5,
     "metadata": {},
     "output_type": "execute_result"
    }
   ],
   "source": [
    "#DEBUG#\n",
    "all_points = [(elem['weight'], elem['args']) for elem in results['iterations']]\n",
    "best_points = sorted(all_points, reverse=True)[:10]\n",
    "\n",
    "best_points"
   ]
  },
  {
   "cell_type": "markdown",
   "metadata": {},
   "source": [
    "### Visualization and Analysis of Optimization Results\n",
    "\n",
    "You can find 2 visualization functions below. The first one helps identify how different parameters affect the Sharpe Ratio, facilitating the selection of optimal parameters for the strategy. The second one displays all parameters on a 3D plot, displaying the overall distribution and behavior of the results. You can use these to change (narrow down or expand) parameter ranges, exclude certain parameters and generally get a better grip on where to look for potential improvements. When you are done, simply run the backtester with optimized parameters."
   ]
  },
  {
   "cell_type": "code",
   "execution_count": 6,
   "metadata": {},
   "outputs": [
    {
     "data": {
      "application/vnd.plotly.v1+json": {
       "config": {
        "plotlyServerURL": "https://plot.ly"
       },
       "data": [
        {
         "hovertemplate": "p3=%{x}<br>Sharpe Ratio=%{marker.color}<extra></extra>",
         "legendgroup": "",
         "marker": {
          "color": [
           0.7053717763297558,
           0.8369086085847144,
           0.6974657956581223
          ],
          "coloraxis": "coloraxis",
          "size": 15,
          "symbol": "circle"
         },
         "mode": "markers",
         "name": "",
         "orientation": "v",
         "showlegend": false,
         "type": "scatter",
         "x": [
          11,
          19,
          23
         ],
         "xaxis": "x",
         "y": [
          0.7053717763297558,
          0.8369086085847144,
          0.6974657956581223
         ],
         "yaxis": "y"
        }
       ],
       "layout": {
        "coloraxis": {
         "cmax": 1,
         "cmin": 0,
         "colorbar": {
          "title": {
           "text": "Sharpe Ratio"
          }
         },
         "colorscale": [
          [
           0,
           "rgb(207, 89, 126)"
          ],
          [
           0.16666666666666666,
           "rgb(232, 132, 113)"
          ],
          [
           0.3333333333333333,
           "rgb(238, 180, 121)"
          ],
          [
           0.5,
           "rgb(233, 226, 156)"
          ],
          [
           0.6666666666666666,
           "rgb(156, 203, 134)"
          ],
          [
           0.8333333333333334,
           "rgb(57, 177, 133)"
          ],
          [
           1,
           "rgb(0, 147, 146)"
          ]
         ]
        },
        "legend": {
         "tracegroupgap": 0
        },
        "template": {
         "data": {
          "bar": [
           {
            "error_x": {
             "color": "#2a3f5f"
            },
            "error_y": {
             "color": "#2a3f5f"
            },
            "marker": {
             "line": {
              "color": "#E5ECF6",
              "width": 0.5
             }
            },
            "type": "bar"
           }
          ],
          "barpolar": [
           {
            "marker": {
             "line": {
              "color": "#E5ECF6",
              "width": 0.5
             }
            },
            "type": "barpolar"
           }
          ],
          "carpet": [
           {
            "aaxis": {
             "endlinecolor": "#2a3f5f",
             "gridcolor": "white",
             "linecolor": "white",
             "minorgridcolor": "white",
             "startlinecolor": "#2a3f5f"
            },
            "baxis": {
             "endlinecolor": "#2a3f5f",
             "gridcolor": "white",
             "linecolor": "white",
             "minorgridcolor": "white",
             "startlinecolor": "#2a3f5f"
            },
            "type": "carpet"
           }
          ],
          "choropleth": [
           {
            "colorbar": {
             "outlinewidth": 0,
             "ticks": ""
            },
            "type": "choropleth"
           }
          ],
          "contour": [
           {
            "colorbar": {
             "outlinewidth": 0,
             "ticks": ""
            },
            "colorscale": [
             [
              0,
              "#0d0887"
             ],
             [
              0.1111111111111111,
              "#46039f"
             ],
             [
              0.2222222222222222,
              "#7201a8"
             ],
             [
              0.3333333333333333,
              "#9c179e"
             ],
             [
              0.4444444444444444,
              "#bd3786"
             ],
             [
              0.5555555555555556,
              "#d8576b"
             ],
             [
              0.6666666666666666,
              "#ed7953"
             ],
             [
              0.7777777777777778,
              "#fb9f3a"
             ],
             [
              0.8888888888888888,
              "#fdca26"
             ],
             [
              1,
              "#f0f921"
             ]
            ],
            "type": "contour"
           }
          ],
          "contourcarpet": [
           {
            "colorbar": {
             "outlinewidth": 0,
             "ticks": ""
            },
            "type": "contourcarpet"
           }
          ],
          "heatmap": [
           {
            "colorbar": {
             "outlinewidth": 0,
             "ticks": ""
            },
            "colorscale": [
             [
              0,
              "#0d0887"
             ],
             [
              0.1111111111111111,
              "#46039f"
             ],
             [
              0.2222222222222222,
              "#7201a8"
             ],
             [
              0.3333333333333333,
              "#9c179e"
             ],
             [
              0.4444444444444444,
              "#bd3786"
             ],
             [
              0.5555555555555556,
              "#d8576b"
             ],
             [
              0.6666666666666666,
              "#ed7953"
             ],
             [
              0.7777777777777778,
              "#fb9f3a"
             ],
             [
              0.8888888888888888,
              "#fdca26"
             ],
             [
              1,
              "#f0f921"
             ]
            ],
            "type": "heatmap"
           }
          ],
          "heatmapgl": [
           {
            "colorbar": {
             "outlinewidth": 0,
             "ticks": ""
            },
            "colorscale": [
             [
              0,
              "#0d0887"
             ],
             [
              0.1111111111111111,
              "#46039f"
             ],
             [
              0.2222222222222222,
              "#7201a8"
             ],
             [
              0.3333333333333333,
              "#9c179e"
             ],
             [
              0.4444444444444444,
              "#bd3786"
             ],
             [
              0.5555555555555556,
              "#d8576b"
             ],
             [
              0.6666666666666666,
              "#ed7953"
             ],
             [
              0.7777777777777778,
              "#fb9f3a"
             ],
             [
              0.8888888888888888,
              "#fdca26"
             ],
             [
              1,
              "#f0f921"
             ]
            ],
            "type": "heatmapgl"
           }
          ],
          "histogram": [
           {
            "marker": {
             "colorbar": {
              "outlinewidth": 0,
              "ticks": ""
             }
            },
            "type": "histogram"
           }
          ],
          "histogram2d": [
           {
            "colorbar": {
             "outlinewidth": 0,
             "ticks": ""
            },
            "colorscale": [
             [
              0,
              "#0d0887"
             ],
             [
              0.1111111111111111,
              "#46039f"
             ],
             [
              0.2222222222222222,
              "#7201a8"
             ],
             [
              0.3333333333333333,
              "#9c179e"
             ],
             [
              0.4444444444444444,
              "#bd3786"
             ],
             [
              0.5555555555555556,
              "#d8576b"
             ],
             [
              0.6666666666666666,
              "#ed7953"
             ],
             [
              0.7777777777777778,
              "#fb9f3a"
             ],
             [
              0.8888888888888888,
              "#fdca26"
             ],
             [
              1,
              "#f0f921"
             ]
            ],
            "type": "histogram2d"
           }
          ],
          "histogram2dcontour": [
           {
            "colorbar": {
             "outlinewidth": 0,
             "ticks": ""
            },
            "colorscale": [
             [
              0,
              "#0d0887"
             ],
             [
              0.1111111111111111,
              "#46039f"
             ],
             [
              0.2222222222222222,
              "#7201a8"
             ],
             [
              0.3333333333333333,
              "#9c179e"
             ],
             [
              0.4444444444444444,
              "#bd3786"
             ],
             [
              0.5555555555555556,
              "#d8576b"
             ],
             [
              0.6666666666666666,
              "#ed7953"
             ],
             [
              0.7777777777777778,
              "#fb9f3a"
             ],
             [
              0.8888888888888888,
              "#fdca26"
             ],
             [
              1,
              "#f0f921"
             ]
            ],
            "type": "histogram2dcontour"
           }
          ],
          "mesh3d": [
           {
            "colorbar": {
             "outlinewidth": 0,
             "ticks": ""
            },
            "type": "mesh3d"
           }
          ],
          "parcoords": [
           {
            "line": {
             "colorbar": {
              "outlinewidth": 0,
              "ticks": ""
             }
            },
            "type": "parcoords"
           }
          ],
          "pie": [
           {
            "automargin": true,
            "type": "pie"
           }
          ],
          "scatter": [
           {
            "marker": {
             "colorbar": {
              "outlinewidth": 0,
              "ticks": ""
             }
            },
            "type": "scatter"
           }
          ],
          "scatter3d": [
           {
            "line": {
             "colorbar": {
              "outlinewidth": 0,
              "ticks": ""
             }
            },
            "marker": {
             "colorbar": {
              "outlinewidth": 0,
              "ticks": ""
             }
            },
            "type": "scatter3d"
           }
          ],
          "scattercarpet": [
           {
            "marker": {
             "colorbar": {
              "outlinewidth": 0,
              "ticks": ""
             }
            },
            "type": "scattercarpet"
           }
          ],
          "scattergeo": [
           {
            "marker": {
             "colorbar": {
              "outlinewidth": 0,
              "ticks": ""
             }
            },
            "type": "scattergeo"
           }
          ],
          "scattergl": [
           {
            "marker": {
             "colorbar": {
              "outlinewidth": 0,
              "ticks": ""
             }
            },
            "type": "scattergl"
           }
          ],
          "scattermapbox": [
           {
            "marker": {
             "colorbar": {
              "outlinewidth": 0,
              "ticks": ""
             }
            },
            "type": "scattermapbox"
           }
          ],
          "scatterpolar": [
           {
            "marker": {
             "colorbar": {
              "outlinewidth": 0,
              "ticks": ""
             }
            },
            "type": "scatterpolar"
           }
          ],
          "scatterpolargl": [
           {
            "marker": {
             "colorbar": {
              "outlinewidth": 0,
              "ticks": ""
             }
            },
            "type": "scatterpolargl"
           }
          ],
          "scatterternary": [
           {
            "marker": {
             "colorbar": {
              "outlinewidth": 0,
              "ticks": ""
             }
            },
            "type": "scatterternary"
           }
          ],
          "surface": [
           {
            "colorbar": {
             "outlinewidth": 0,
             "ticks": ""
            },
            "colorscale": [
             [
              0,
              "#0d0887"
             ],
             [
              0.1111111111111111,
              "#46039f"
             ],
             [
              0.2222222222222222,
              "#7201a8"
             ],
             [
              0.3333333333333333,
              "#9c179e"
             ],
             [
              0.4444444444444444,
              "#bd3786"
             ],
             [
              0.5555555555555556,
              "#d8576b"
             ],
             [
              0.6666666666666666,
              "#ed7953"
             ],
             [
              0.7777777777777778,
              "#fb9f3a"
             ],
             [
              0.8888888888888888,
              "#fdca26"
             ],
             [
              1,
              "#f0f921"
             ]
            ],
            "type": "surface"
           }
          ],
          "table": [
           {
            "cells": {
             "fill": {
              "color": "#EBF0F8"
             },
             "line": {
              "color": "white"
             }
            },
            "header": {
             "fill": {
              "color": "#C8D4E3"
             },
             "line": {
              "color": "white"
             }
            },
            "type": "table"
           }
          ]
         },
         "layout": {
          "annotationdefaults": {
           "arrowcolor": "#2a3f5f",
           "arrowhead": 0,
           "arrowwidth": 1
          },
          "autotypenumbers": "strict",
          "coloraxis": {
           "colorbar": {
            "outlinewidth": 0,
            "ticks": ""
           }
          },
          "colorscale": {
           "diverging": [
            [
             0,
             "#8e0152"
            ],
            [
             0.1,
             "#c51b7d"
            ],
            [
             0.2,
             "#de77ae"
            ],
            [
             0.3,
             "#f1b6da"
            ],
            [
             0.4,
             "#fde0ef"
            ],
            [
             0.5,
             "#f7f7f7"
            ],
            [
             0.6,
             "#e6f5d0"
            ],
            [
             0.7,
             "#b8e186"
            ],
            [
             0.8,
             "#7fbc41"
            ],
            [
             0.9,
             "#4d9221"
            ],
            [
             1,
             "#276419"
            ]
           ],
           "sequential": [
            [
             0,
             "#0d0887"
            ],
            [
             0.1111111111111111,
             "#46039f"
            ],
            [
             0.2222222222222222,
             "#7201a8"
            ],
            [
             0.3333333333333333,
             "#9c179e"
            ],
            [
             0.4444444444444444,
             "#bd3786"
            ],
            [
             0.5555555555555556,
             "#d8576b"
            ],
            [
             0.6666666666666666,
             "#ed7953"
            ],
            [
             0.7777777777777778,
             "#fb9f3a"
            ],
            [
             0.8888888888888888,
             "#fdca26"
            ],
            [
             1,
             "#f0f921"
            ]
           ],
           "sequentialminus": [
            [
             0,
             "#0d0887"
            ],
            [
             0.1111111111111111,
             "#46039f"
            ],
            [
             0.2222222222222222,
             "#7201a8"
            ],
            [
             0.3333333333333333,
             "#9c179e"
            ],
            [
             0.4444444444444444,
             "#bd3786"
            ],
            [
             0.5555555555555556,
             "#d8576b"
            ],
            [
             0.6666666666666666,
             "#ed7953"
            ],
            [
             0.7777777777777778,
             "#fb9f3a"
            ],
            [
             0.8888888888888888,
             "#fdca26"
            ],
            [
             1,
             "#f0f921"
            ]
           ]
          },
          "colorway": [
           "#636efa",
           "#EF553B",
           "#00cc96",
           "#ab63fa",
           "#FFA15A",
           "#19d3f3",
           "#FF6692",
           "#B6E880",
           "#FF97FF",
           "#FECB52"
          ],
          "font": {
           "color": "#2a3f5f"
          },
          "geo": {
           "bgcolor": "white",
           "lakecolor": "white",
           "landcolor": "#E5ECF6",
           "showlakes": true,
           "showland": true,
           "subunitcolor": "white"
          },
          "hoverlabel": {
           "align": "left"
          },
          "hovermode": "closest",
          "mapbox": {
           "style": "light"
          },
          "paper_bgcolor": "white",
          "plot_bgcolor": "#E5ECF6",
          "polar": {
           "angularaxis": {
            "gridcolor": "white",
            "linecolor": "white",
            "ticks": ""
           },
           "bgcolor": "#E5ECF6",
           "radialaxis": {
            "gridcolor": "white",
            "linecolor": "white",
            "ticks": ""
           }
          },
          "scene": {
           "xaxis": {
            "backgroundcolor": "#E5ECF6",
            "gridcolor": "white",
            "gridwidth": 2,
            "linecolor": "white",
            "showbackground": true,
            "ticks": "",
            "zerolinecolor": "white"
           },
           "yaxis": {
            "backgroundcolor": "#E5ECF6",
            "gridcolor": "white",
            "gridwidth": 2,
            "linecolor": "white",
            "showbackground": true,
            "ticks": "",
            "zerolinecolor": "white"
           },
           "zaxis": {
            "backgroundcolor": "#E5ECF6",
            "gridcolor": "white",
            "gridwidth": 2,
            "linecolor": "white",
            "showbackground": true,
            "ticks": "",
            "zerolinecolor": "white"
           }
          },
          "shapedefaults": {
           "line": {
            "color": "#2a3f5f"
           }
          },
          "ternary": {
           "aaxis": {
            "gridcolor": "white",
            "linecolor": "white",
            "ticks": ""
           },
           "baxis": {
            "gridcolor": "white",
            "linecolor": "white",
            "ticks": ""
           },
           "bgcolor": "#E5ECF6",
           "caxis": {
            "gridcolor": "white",
            "linecolor": "white",
            "ticks": ""
           }
          },
          "title": {
           "x": 0.05
          },
          "xaxis": {
           "automargin": true,
           "gridcolor": "white",
           "linecolor": "white",
           "ticks": "",
           "title": {
            "standoff": 15
           },
           "zerolinecolor": "white",
           "zerolinewidth": 2
          },
          "yaxis": {
           "automargin": true,
           "gridcolor": "white",
           "linecolor": "white",
           "ticks": "",
           "title": {
            "standoff": 15
           },
           "zerolinecolor": "white",
           "zerolinewidth": 2
          }
         }
        },
        "title": {
         "text": "Parameter influence on Sharpe Ratio"
        },
        "updatemenus": [
         {
          "buttons": [
           {
            "args": [
             {
              "color": "Sharpe Ratio",
              "x": [
               [
                11,
                19,
                23
               ]
              ]
             },
             {
              "xaxis.title.text": "p3"
             }
            ],
            "label": "p3",
            "method": "update"
           },
           {
            "args": [
             {
              "color": "Sharpe Ratio",
              "x": [
               [
                3.5,
                3.5,
                3.5
               ]
              ]
             },
             {
              "xaxis.title.text": "p4"
             }
            ],
            "label": "p4",
            "method": "update"
           },
           {
            "args": [
             {
              "color": "Sharpe Ratio",
              "x": [
               [
                1.5,
                0.5,
                0.5
               ]
              ]
             },
             {
              "xaxis.title.text": "p5"
             }
            ],
            "label": "p5",
            "method": "update"
           },
           {
            "args": [
             {
              "color": "Sharpe Ratio",
              "x": [
               [
                -15,
                -15,
                -15
               ]
              ]
             },
             {
              "xaxis.title.text": "p6"
             }
            ],
            "label": "p6",
            "method": "update"
           }
          ],
          "direction": "down",
          "showactive": true,
          "x": 1.15,
          "xanchor": "right",
          "y": 1.15,
          "yanchor": "top"
         }
        ],
        "xaxis": {
         "anchor": "y",
         "domain": [
          0,
          1
         ],
         "title": {
          "text": "p3"
         }
        },
        "yaxis": {
         "anchor": "x",
         "domain": [
          0,
          1
         ],
         "title": {
          "text": "Sharpe Ratio"
         }
        }
       }
      },
      "text/html": [
       "<div>                            <div id=\"0ca54542-7dee-4faf-85fd-fd86edd01ea1\" class=\"plotly-graph-div\" style=\"height:525px; width:100%;\"></div>            <script type=\"text/javascript\">                require([\"plotly\"], function(Plotly) {                    window.PLOTLYENV=window.PLOTLYENV || {};                                    if (document.getElementById(\"0ca54542-7dee-4faf-85fd-fd86edd01ea1\")) {                    Plotly.newPlot(                        \"0ca54542-7dee-4faf-85fd-fd86edd01ea1\",                        [{\"hovertemplate\": \"p3=%{x}<br>Sharpe Ratio=%{marker.color}<extra></extra>\", \"legendgroup\": \"\", \"marker\": {\"color\": [0.7053717763297558, 0.8369086085847144, 0.6974657956581223], \"coloraxis\": \"coloraxis\", \"size\": 15, \"symbol\": \"circle\"}, \"mode\": \"markers\", \"name\": \"\", \"orientation\": \"v\", \"showlegend\": false, \"type\": \"scatter\", \"x\": [11, 19, 23], \"xaxis\": \"x\", \"y\": [0.7053717763297558, 0.8369086085847144, 0.6974657956581223], \"yaxis\": \"y\"}],                        {\"coloraxis\": {\"cmax\": 1, \"cmin\": 0, \"colorbar\": {\"title\": {\"text\": \"Sharpe Ratio\"}}, \"colorscale\": [[0.0, \"rgb(207, 89, 126)\"], [0.16666666666666666, \"rgb(232, 132, 113)\"], [0.3333333333333333, \"rgb(238, 180, 121)\"], [0.5, \"rgb(233, 226, 156)\"], [0.6666666666666666, \"rgb(156, 203, 134)\"], [0.8333333333333334, \"rgb(57, 177, 133)\"], [1.0, \"rgb(0, 147, 146)\"]]}, \"legend\": {\"tracegroupgap\": 0}, \"template\": {\"data\": {\"bar\": [{\"error_x\": {\"color\": \"#2a3f5f\"}, \"error_y\": {\"color\": \"#2a3f5f\"}, \"marker\": {\"line\": {\"color\": \"#E5ECF6\", \"width\": 0.5}}, \"type\": \"bar\"}], \"barpolar\": [{\"marker\": {\"line\": {\"color\": \"#E5ECF6\", \"width\": 0.5}}, \"type\": \"barpolar\"}], \"carpet\": [{\"aaxis\": {\"endlinecolor\": \"#2a3f5f\", \"gridcolor\": \"white\", \"linecolor\": \"white\", \"minorgridcolor\": \"white\", \"startlinecolor\": \"#2a3f5f\"}, \"baxis\": {\"endlinecolor\": \"#2a3f5f\", \"gridcolor\": \"white\", \"linecolor\": \"white\", \"minorgridcolor\": \"white\", \"startlinecolor\": \"#2a3f5f\"}, \"type\": \"carpet\"}], \"choropleth\": [{\"colorbar\": {\"outlinewidth\": 0, \"ticks\": \"\"}, \"type\": \"choropleth\"}], \"contour\": [{\"colorbar\": {\"outlinewidth\": 0, \"ticks\": \"\"}, \"colorscale\": [[0.0, \"#0d0887\"], [0.1111111111111111, \"#46039f\"], [0.2222222222222222, \"#7201a8\"], [0.3333333333333333, \"#9c179e\"], [0.4444444444444444, \"#bd3786\"], [0.5555555555555556, \"#d8576b\"], [0.6666666666666666, \"#ed7953\"], [0.7777777777777778, \"#fb9f3a\"], [0.8888888888888888, \"#fdca26\"], [1.0, \"#f0f921\"]], \"type\": \"contour\"}], \"contourcarpet\": [{\"colorbar\": {\"outlinewidth\": 0, \"ticks\": \"\"}, \"type\": \"contourcarpet\"}], \"heatmap\": [{\"colorbar\": {\"outlinewidth\": 0, \"ticks\": \"\"}, \"colorscale\": [[0.0, \"#0d0887\"], [0.1111111111111111, \"#46039f\"], [0.2222222222222222, \"#7201a8\"], [0.3333333333333333, \"#9c179e\"], [0.4444444444444444, \"#bd3786\"], [0.5555555555555556, \"#d8576b\"], [0.6666666666666666, \"#ed7953\"], [0.7777777777777778, \"#fb9f3a\"], [0.8888888888888888, \"#fdca26\"], [1.0, \"#f0f921\"]], \"type\": \"heatmap\"}], \"heatmapgl\": [{\"colorbar\": {\"outlinewidth\": 0, \"ticks\": \"\"}, \"colorscale\": [[0.0, \"#0d0887\"], [0.1111111111111111, \"#46039f\"], [0.2222222222222222, \"#7201a8\"], [0.3333333333333333, \"#9c179e\"], [0.4444444444444444, \"#bd3786\"], [0.5555555555555556, \"#d8576b\"], [0.6666666666666666, \"#ed7953\"], [0.7777777777777778, \"#fb9f3a\"], [0.8888888888888888, \"#fdca26\"], [1.0, \"#f0f921\"]], \"type\": \"heatmapgl\"}], \"histogram\": [{\"marker\": {\"colorbar\": {\"outlinewidth\": 0, \"ticks\": \"\"}}, \"type\": \"histogram\"}], \"histogram2d\": [{\"colorbar\": {\"outlinewidth\": 0, \"ticks\": \"\"}, \"colorscale\": [[0.0, \"#0d0887\"], [0.1111111111111111, \"#46039f\"], [0.2222222222222222, \"#7201a8\"], [0.3333333333333333, \"#9c179e\"], [0.4444444444444444, \"#bd3786\"], [0.5555555555555556, \"#d8576b\"], [0.6666666666666666, \"#ed7953\"], [0.7777777777777778, \"#fb9f3a\"], [0.8888888888888888, \"#fdca26\"], [1.0, \"#f0f921\"]], \"type\": \"histogram2d\"}], \"histogram2dcontour\": [{\"colorbar\": {\"outlinewidth\": 0, \"ticks\": \"\"}, \"colorscale\": [[0.0, \"#0d0887\"], [0.1111111111111111, \"#46039f\"], [0.2222222222222222, \"#7201a8\"], [0.3333333333333333, \"#9c179e\"], [0.4444444444444444, \"#bd3786\"], [0.5555555555555556, \"#d8576b\"], [0.6666666666666666, \"#ed7953\"], [0.7777777777777778, \"#fb9f3a\"], [0.8888888888888888, \"#fdca26\"], [1.0, \"#f0f921\"]], \"type\": \"histogram2dcontour\"}], \"mesh3d\": [{\"colorbar\": {\"outlinewidth\": 0, \"ticks\": \"\"}, \"type\": \"mesh3d\"}], \"parcoords\": [{\"line\": {\"colorbar\": {\"outlinewidth\": 0, \"ticks\": \"\"}}, \"type\": \"parcoords\"}], \"pie\": [{\"automargin\": true, \"type\": \"pie\"}], \"scatter\": [{\"marker\": {\"colorbar\": {\"outlinewidth\": 0, \"ticks\": \"\"}}, \"type\": \"scatter\"}], \"scatter3d\": [{\"line\": {\"colorbar\": {\"outlinewidth\": 0, \"ticks\": \"\"}}, \"marker\": {\"colorbar\": {\"outlinewidth\": 0, \"ticks\": \"\"}}, \"type\": \"scatter3d\"}], \"scattercarpet\": [{\"marker\": {\"colorbar\": {\"outlinewidth\": 0, \"ticks\": \"\"}}, \"type\": \"scattercarpet\"}], \"scattergeo\": [{\"marker\": {\"colorbar\": {\"outlinewidth\": 0, \"ticks\": \"\"}}, \"type\": \"scattergeo\"}], \"scattergl\": [{\"marker\": {\"colorbar\": {\"outlinewidth\": 0, \"ticks\": \"\"}}, \"type\": \"scattergl\"}], \"scattermapbox\": [{\"marker\": {\"colorbar\": {\"outlinewidth\": 0, \"ticks\": \"\"}}, \"type\": \"scattermapbox\"}], \"scatterpolar\": [{\"marker\": {\"colorbar\": {\"outlinewidth\": 0, \"ticks\": \"\"}}, \"type\": \"scatterpolar\"}], \"scatterpolargl\": [{\"marker\": {\"colorbar\": {\"outlinewidth\": 0, \"ticks\": \"\"}}, \"type\": \"scatterpolargl\"}], \"scatterternary\": [{\"marker\": {\"colorbar\": {\"outlinewidth\": 0, \"ticks\": \"\"}}, \"type\": \"scatterternary\"}], \"surface\": [{\"colorbar\": {\"outlinewidth\": 0, \"ticks\": \"\"}, \"colorscale\": [[0.0, \"#0d0887\"], [0.1111111111111111, \"#46039f\"], [0.2222222222222222, \"#7201a8\"], [0.3333333333333333, \"#9c179e\"], [0.4444444444444444, \"#bd3786\"], [0.5555555555555556, \"#d8576b\"], [0.6666666666666666, \"#ed7953\"], [0.7777777777777778, \"#fb9f3a\"], [0.8888888888888888, \"#fdca26\"], [1.0, \"#f0f921\"]], \"type\": \"surface\"}], \"table\": [{\"cells\": {\"fill\": {\"color\": \"#EBF0F8\"}, \"line\": {\"color\": \"white\"}}, \"header\": {\"fill\": {\"color\": \"#C8D4E3\"}, \"line\": {\"color\": \"white\"}}, \"type\": \"table\"}]}, \"layout\": {\"annotationdefaults\": {\"arrowcolor\": \"#2a3f5f\", \"arrowhead\": 0, \"arrowwidth\": 1}, \"autotypenumbers\": \"strict\", \"coloraxis\": {\"colorbar\": {\"outlinewidth\": 0, \"ticks\": \"\"}}, \"colorscale\": {\"diverging\": [[0, \"#8e0152\"], [0.1, \"#c51b7d\"], [0.2, \"#de77ae\"], [0.3, \"#f1b6da\"], [0.4, \"#fde0ef\"], [0.5, \"#f7f7f7\"], [0.6, \"#e6f5d0\"], [0.7, \"#b8e186\"], [0.8, \"#7fbc41\"], [0.9, \"#4d9221\"], [1, \"#276419\"]], \"sequential\": [[0.0, \"#0d0887\"], [0.1111111111111111, \"#46039f\"], [0.2222222222222222, \"#7201a8\"], [0.3333333333333333, \"#9c179e\"], [0.4444444444444444, \"#bd3786\"], [0.5555555555555556, \"#d8576b\"], [0.6666666666666666, \"#ed7953\"], [0.7777777777777778, \"#fb9f3a\"], [0.8888888888888888, \"#fdca26\"], [1.0, \"#f0f921\"]], \"sequentialminus\": [[0.0, \"#0d0887\"], [0.1111111111111111, \"#46039f\"], [0.2222222222222222, \"#7201a8\"], [0.3333333333333333, \"#9c179e\"], [0.4444444444444444, \"#bd3786\"], [0.5555555555555556, \"#d8576b\"], [0.6666666666666666, \"#ed7953\"], [0.7777777777777778, \"#fb9f3a\"], [0.8888888888888888, \"#fdca26\"], [1.0, \"#f0f921\"]]}, \"colorway\": [\"#636efa\", \"#EF553B\", \"#00cc96\", \"#ab63fa\", \"#FFA15A\", \"#19d3f3\", \"#FF6692\", \"#B6E880\", \"#FF97FF\", \"#FECB52\"], \"font\": {\"color\": \"#2a3f5f\"}, \"geo\": {\"bgcolor\": \"white\", \"lakecolor\": \"white\", \"landcolor\": \"#E5ECF6\", \"showlakes\": true, \"showland\": true, \"subunitcolor\": \"white\"}, \"hoverlabel\": {\"align\": \"left\"}, \"hovermode\": \"closest\", \"mapbox\": {\"style\": \"light\"}, \"paper_bgcolor\": \"white\", \"plot_bgcolor\": \"#E5ECF6\", \"polar\": {\"angularaxis\": {\"gridcolor\": \"white\", \"linecolor\": \"white\", \"ticks\": \"\"}, \"bgcolor\": \"#E5ECF6\", \"radialaxis\": {\"gridcolor\": \"white\", \"linecolor\": \"white\", \"ticks\": \"\"}}, \"scene\": {\"xaxis\": {\"backgroundcolor\": \"#E5ECF6\", \"gridcolor\": \"white\", \"gridwidth\": 2, \"linecolor\": \"white\", \"showbackground\": true, \"ticks\": \"\", \"zerolinecolor\": \"white\"}, \"yaxis\": {\"backgroundcolor\": \"#E5ECF6\", \"gridcolor\": \"white\", \"gridwidth\": 2, \"linecolor\": \"white\", \"showbackground\": true, \"ticks\": \"\", \"zerolinecolor\": \"white\"}, \"zaxis\": {\"backgroundcolor\": \"#E5ECF6\", \"gridcolor\": \"white\", \"gridwidth\": 2, \"linecolor\": \"white\", \"showbackground\": true, \"ticks\": \"\", \"zerolinecolor\": \"white\"}}, \"shapedefaults\": {\"line\": {\"color\": \"#2a3f5f\"}}, \"ternary\": {\"aaxis\": {\"gridcolor\": \"white\", \"linecolor\": \"white\", \"ticks\": \"\"}, \"baxis\": {\"gridcolor\": \"white\", \"linecolor\": \"white\", \"ticks\": \"\"}, \"bgcolor\": \"#E5ECF6\", \"caxis\": {\"gridcolor\": \"white\", \"linecolor\": \"white\", \"ticks\": \"\"}}, \"title\": {\"x\": 0.05}, \"xaxis\": {\"automargin\": true, \"gridcolor\": \"white\", \"linecolor\": \"white\", \"ticks\": \"\", \"title\": {\"standoff\": 15}, \"zerolinecolor\": \"white\", \"zerolinewidth\": 2}, \"yaxis\": {\"automargin\": true, \"gridcolor\": \"white\", \"linecolor\": \"white\", \"ticks\": \"\", \"title\": {\"standoff\": 15}, \"zerolinecolor\": \"white\", \"zerolinewidth\": 2}}}, \"title\": {\"text\": \"Parameter influence on Sharpe Ratio\"}, \"updatemenus\": [{\"buttons\": [{\"args\": [{\"color\": \"Sharpe Ratio\", \"x\": [[11, 19, 23]]}, {\"xaxis.title.text\": \"p3\"}], \"label\": \"p3\", \"method\": \"update\"}, {\"args\": [{\"color\": \"Sharpe Ratio\", \"x\": [[3.5, 3.5, 3.5]]}, {\"xaxis.title.text\": \"p4\"}], \"label\": \"p4\", \"method\": \"update\"}, {\"args\": [{\"color\": \"Sharpe Ratio\", \"x\": [[1.5, 0.5, 0.5]]}, {\"xaxis.title.text\": \"p5\"}], \"label\": \"p5\", \"method\": \"update\"}, {\"args\": [{\"color\": \"Sharpe Ratio\", \"x\": [[-15, -15, -15]]}, {\"xaxis.title.text\": \"p6\"}], \"label\": \"p6\", \"method\": \"update\"}], \"direction\": \"down\", \"showactive\": true, \"x\": 1.15, \"xanchor\": \"right\", \"y\": 1.15, \"yanchor\": \"top\"}], \"xaxis\": {\"anchor\": \"y\", \"domain\": [0.0, 1.0], \"title\": {\"text\": \"p3\"}}, \"yaxis\": {\"anchor\": \"x\", \"domain\": [0.0, 1.0], \"title\": {\"text\": \"Sharpe Ratio\"}}},                        {\"responsive\": true}                    ).then(function(){\n",
       "                            \n",
       "var gd = document.getElementById('0ca54542-7dee-4faf-85fd-fd86edd01ea1');\n",
       "var x = new MutationObserver(function (mutations, observer) {{\n",
       "        var display = window.getComputedStyle(gd).display;\n",
       "        if (!display || display === 'none') {{\n",
       "            console.log([gd, 'removed!']);\n",
       "            Plotly.purge(gd);\n",
       "            observer.disconnect();\n",
       "        }}\n",
       "}});\n",
       "\n",
       "// Listen for the removal of the full notebook cells\n",
       "var notebookContainer = gd.closest('#notebook-container');\n",
       "if (notebookContainer) {{\n",
       "    x.observe(notebookContainer, {childList: true});\n",
       "}}\n",
       "\n",
       "// Listen for the clearing of the current output cell\n",
       "var outputEl = gd.closest('.output');\n",
       "if (outputEl) {{\n",
       "    x.observe(outputEl, {childList: true});\n",
       "}}\n",
       "\n",
       "                        })                };                });            </script>        </div>"
      ]
     },
     "metadata": {},
     "output_type": "display_data"
    },
    {
     "name": "stdout",
     "output_type": "stream",
     "text": [
      "---\n",
      "Best iteration:\n"
     ]
    },
    {
     "data": {
      "text/plain": [
       "{'args': {'p3': 19, 'p4': 3.5, 'p5': 0.5, 'p6': -15},\n",
       " 'result': {'equity': 13.560110937545458,\n",
       "  'relative_return': 0.007051058213722428,\n",
       "  'volatility': 0.1808316168032345,\n",
       "  'underwater': 0.0,\n",
       "  'max_drawdown': -0.5132879264877115,\n",
       "  'sharpe_ratio': 0.8369086085847144,\n",
       "  'mean_return': 0.15133953680691925,\n",
       "  'bias': 1.0,\n",
       "  'instruments': 228.0,\n",
       "  'avg_turnover': 0.07414342372948644,\n",
       "  'avg_holding_time': 30.388183419804694},\n",
       " 'weight': 0.8369086085847144,\n",
       " 'exception': None}"
      ]
     },
     "metadata": {},
     "output_type": "display_data"
    }
   ],
   "source": [
    "#DEBUG#\n",
    "sharpe_ratio = [item[0] for item in all_points]\n",
    "parameters = [item[1] for item in all_points]\n",
    "\n",
    "param_df = pd.DataFrame(parameters)\n",
    "param_df['Sharpe Ratio'] = sharpe_ratio\n",
    "param_columns = param_df.columns[:-1]  \n",
    "\n",
    "labels = {col: col for col in param_columns}\n",
    "labels['Sharpe Ratio'] = 'Sharpe Ratio'\n",
    "\n",
    "fig = px.scatter(\n",
    "    param_df,\n",
    "    x=param_columns[0],\n",
    "    y='Sharpe Ratio',\n",
    "    color='Sharpe Ratio',\n",
    "    title='Parameter influence on Sharpe Ratio',\n",
    "    labels=labels,\n",
    "    color_continuous_scale='temps_r',  \n",
    "    range_color=[0, 1]  \n",
    ")\n",
    "\n",
    "fig.update_traces(marker={'size': 15})\n",
    "\n",
    "dropdown_buttons = [\n",
    "    {\n",
    "        'args': [{'x': [param_df[col]], 'color': 'Sharpe Ratio'}, {'xaxis.title.text': col}],\n",
    "        'label': col,\n",
    "        'method': 'update',\n",
    "    }\n",
    "    for col in param_columns\n",
    "]\n",
    "\n",
    "fig.update_layout(\n",
    "    updatemenus=[{\n",
    "        'buttons': dropdown_buttons,\n",
    "        'direction': 'down',\n",
    "        'showactive': True,\n",
    "        'x': 1.15,\n",
    "        'xanchor': 'right',\n",
    "        'y': 1.15,\n",
    "        'yanchor': 'top'\n",
    "    }]    \n",
    ")\n",
    "\n",
    "fig.show()\n",
    "\n",
    "print(\"---\")\n",
    "print(\"Best iteration:\")\n",
    "display(results['best_iteration'])"
   ]
  },
  {
   "cell_type": "code",
   "execution_count": 7,
   "metadata": {},
   "outputs": [
    {
     "data": {
      "application/vnd.jupyter.widget-view+json": {
       "model_id": "ed144856295846cab826fde2f56e60a3",
       "version_major": 2,
       "version_minor": 0
      },
      "text/plain": [
       "VBox(children=(HBox(children=(Dropdown(description='coord_x', options=('p3', 'p4', 'p5', 'p6', 'sharpe_ratio',…"
      ]
     },
     "metadata": {},
     "output_type": "display_data"
    }
   ],
   "source": [
    "#DEBUG#\n",
    "qno.build_plot(results)"
   ]
  },
  {
   "cell_type": "markdown",
   "metadata": {},
   "source": [
    "## Final Strategy Submission\n",
    "\n",
    "This section runs the strategy with finalized parameters to generate the weight outputs for submission. Once you find the best combination of parameters, simply put them in the ```best_params``` dictionary, and it will run the backtest using them."
   ]
  },
  {
   "cell_type": "code",
   "execution_count": 8,
   "metadata": {},
   "outputs": [
    {
     "name": "stdout",
     "output_type": "stream",
     "text": [
      "Run last pass...\n",
      "Load data...\n",
      "fetched chunk 1/1 0s\n",
      "Data loaded 0s\n",
      "Run strategy...\n",
      "Load data for cleanup...\n",
      "fetched chunk 1/1 0s\n",
      "Data loaded 0s\n",
      "Output cleaning...\n",
      "fix uniq\n",
      "ffill if the current price is None...\n",
      "Check liquidity...\n",
      "WARNING! Strategy trades non-liquid assets.\n",
      "Fix liquidity...\n",
      "Ok.\n",
      "Check missed dates...\n",
      "Ok.\n",
      "Normalization...\n",
      "Output cleaning is complete.\n",
      "Write result...\n",
      "Write output: /root/fractions.nc.gz\n",
      "State saved.\n",
      "---\n",
      "Run first pass...\n",
      "Load data...\n",
      "fetched chunk 1/1 0s\n",
      "Data loaded 0s\n",
      "Run strategy...\n",
      "---\n",
      "Load full data...\n",
      "fetched chunk 1/6 0s\n",
      "fetched chunk 2/6 0s\n",
      "fetched chunk 3/6 0s\n",
      "fetched chunk 4/6 0s\n",
      "fetched chunk 5/6 0s\n",
      "fetched chunk 6/6 0s\n",
      "Data loaded 0s\n",
      "---\n",
      "Run iterations...\n",
      "\n"
     ]
    },
    {
     "name": "stderr",
     "output_type": "stream",
     "text": [
      "100% (4662 of 4662) |####################| Elapsed Time: 0:05:44 Time:  0:05:44\n"
     ]
    },
    {
     "name": "stdout",
     "output_type": "stream",
     "text": [
      "Merge outputs...\n",
      "Load data for cleanup and analysis...\n",
      "fetched chunk 1/7 0s\n",
      "fetched chunk 2/7 0s\n",
      "fetched chunk 3/7 0s\n",
      "fetched chunk 4/7 0s\n",
      "fetched chunk 5/7 0s\n",
      "fetched chunk 6/7 0s\n",
      "fetched chunk 7/7 0s\n",
      "Data loaded 0s\n",
      "Output cleaning...\n",
      "fix uniq\n",
      "ffill if the current price is None...\n",
      "Check liquidity...\n",
      "WARNING! Strategy trades non-liquid assets.\n",
      "Fix liquidity...\n",
      "Ok.\n",
      "Check missed dates...\n",
      "Ok.\n",
      "Normalization...\n",
      "Output cleaning is complete.\n",
      "Write result...\n",
      "Write output: /root/fractions.nc.gz\n",
      "State saved.\n",
      "---\n",
      "Analyze results...\n",
      "Check...\n",
      "Check liquidity...\n",
      "Ok.\n",
      "Check missed dates...\n",
      "Ok.\n",
      "Check the sharpe ratio...\n",
      "Period: 2006-01-01 - 2024-07-12\n",
      "Sharpe Ratio = 0.799982118926227\n",
      "Ok.\n",
      "---\n",
      "Align...\n",
      "Calc global stats...\n",
      "---\n",
      "Calc stats per asset...\n",
      "Build plots...\n",
      "---\n",
      "Select the asset (or leave blank to display the overall stats):\n"
     ]
    },
    {
     "data": {
      "application/vnd.jupyter.widget-view+json": {
       "model_id": "2bd5ece97d2c4648908125e59ad1344e",
       "version_major": 2,
       "version_minor": 0
      },
      "text/plain": [
       "interactive(children=(Combobox(value='', description='asset', options=('', 'NAS:AAL', 'NAS:AAPL', 'NAS:ABNB', …"
      ]
     },
     "metadata": {},
     "output_type": "display_data"
    }
   ],
   "source": [
    "best_params = dict(p1=7.5, p2 = 3, p3 = 18, p4 = 6, p5 = 0.5, p6 = -17) #Choice of optimized parameters\n",
    "\n",
    "def best_strategy(data, state):\n",
    "    return strategy(data, state, **best_params)\n",
    "\n",
    "weights, state = qnbt.backtest(\n",
    "    competition_type=\"stocks_nasdaq100\", \n",
    "    lookback_period=365,  # lookback in calendar days\n",
    "    start_date=\"2006-01-01\",\n",
    "    strategy=best_strategy,\n",
    "    analyze=True,\n",
    "    build_plots=True,\n",
    "    collect_all_states=False \n",
    ")"
   ]
  }
 ],
 "metadata": {
  "kernelspec": {
   "display_name": "Python 3 (ipykernel)",
   "language": "python",
   "name": "python3"
  },
  "language_info": {
   "codemirror_mode": {
    "name": "ipython",
    "version": 3
   },
   "file_extension": ".py",
   "mimetype": "text/x-python",
   "name": "python",
   "nbconvert_exporter": "python",
   "pygments_lexer": "ipython3",
   "version": "3.10.14"
  }
 },
 "nbformat": 4,
 "nbformat_minor": 4
}
